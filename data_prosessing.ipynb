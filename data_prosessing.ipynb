{
 "cells": [
  {
   "cell_type": "markdown",
   "id": "c543bd14-0016-4b54-bc0f-562a35d9a804",
   "metadata": {},
   "source": [
    "Создание временной сетки для наглядности графиков:\n",
    "* когда данные не собрались?\n",
    "* когда отпределенные товары не попадали на исследуы перве 2 страницы выдачи?"
   ]
  },
  {
   "cell_type": "code",
   "execution_count": 3,
   "id": "b7c12d71-2e4c-4861-a3c8-3a6ddd93f51c",
   "metadata": {},
   "outputs": [],
   "source": [
    "import sqlite3\n",
    "import pandas as pd"
   ]
  },
  {
   "cell_type": "code",
   "execution_count": 4,
   "id": "715b5d02-28ca-4e9a-85ad-f58313c4fe5a",
   "metadata": {},
   "outputs": [],
   "source": [
    "# Подключение к базе данных\n",
    "df = pd.read_csv('wb_db.csv')"
   ]
  },
  {
   "cell_type": "code",
   "execution_count": 5,
   "id": "6aa52972-67c4-4314-a6ed-2e0e5e858f2b",
   "metadata": {},
   "outputs": [],
   "source": [
    "# Округление времени до минут\n",
    "df['created_at'] = pd.to_datetime(df['created_at']).dt.floor('min')"
   ]
  },
  {
   "cell_type": "code",
   "execution_count": 6,
   "id": "2d7f0571-59c2-46ea-93ff-c4bf0142f01e",
   "metadata": {},
   "outputs": [],
   "source": [
    "# Определим время начала и конца сбора данных\n",
    "start = df['created_at'].min().floor('10min')\n",
    "end = df['created_at'].max().ceil('10min')\n",
    "\n",
    "# Создаем список всех 10-минутных точек\n",
    "all_times = pd.date_range(\n",
    "    start=df['created_at'].min(),\n",
    "    end=df['created_at'].max(),\n",
    "    freq='10min'\n",
    ")\n",
    "\n",
    "# Создаем сетку по каждому наименованию в каждую временную точку в каждом городе\n",
    "all_names = df['name'].unique()\n",
    "all_cities = df['city'].unique()\n",
    "\n",
    "grid = pd.MultiIndex.from_product(\n",
    "    [all_names, all_times, all_cities],\n",
    "    names=[\"name\", \"created_at\", \"city\"]\n",
    ").to_frame(index=False)"
   ]
  },
  {
   "cell_type": "code",
   "execution_count": 9,
   "id": "081c9162-5cf8-43e6-a87c-bb93787fe1a5",
   "metadata": {},
   "outputs": [],
   "source": [
    "df_full = grid.merge(df, on=[\"name\", \"created_at\", \"city\"], how=\"left\")"
   ]
  },
  {
   "cell_type": "code",
   "execution_count": null,
   "id": "661b09c3-a353-49c3-bd96-eacdb62e97c0",
   "metadata": {},
   "outputs": [],
   "source": [
    "df_full.to_csv(\"wb_db_full.csv\", index=False)"
   ]
  }
 ],
 "metadata": {
  "kernelspec": {
   "display_name": "Python 3 (ipykernel)",
   "language": "python",
   "name": "python3"
  },
  "language_info": {
   "codemirror_mode": {
    "name": "ipython",
    "version": 3
   },
   "file_extension": ".py",
   "mimetype": "text/x-python",
   "name": "python",
   "nbconvert_exporter": "python",
   "pygments_lexer": "ipython3",
   "version": "3.12.1"
  }
 },
 "nbformat": 4,
 "nbformat_minor": 5
}
